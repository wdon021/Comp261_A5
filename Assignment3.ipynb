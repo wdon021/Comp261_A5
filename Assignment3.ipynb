{
  "nbformat": 4,
  "nbformat_minor": 0,
  "metadata": {
    "colab": {
      "name": "Assignment3.ipynb",
      "provenance": [],
      "authorship_tag": "ABX9TyMQwd3A81qbQ4cIQhS/tGoY",
      "include_colab_link": true
    },
    "kernelspec": {
      "name": "python3",
      "display_name": "Python 3"
    }
  },
  "cells": [
    {
      "cell_type": "markdown",
      "metadata": {
        "id": "view-in-github",
        "colab_type": "text"
      },
      "source": [
        "<a href=\"https://colab.research.google.com/github/wdon021/Comp261_A5/blob/master/Assignment3.ipynb\" target=\"_parent\"><img src=\"https://colab.research.google.com/assets/colab-badge.svg\" alt=\"Open In Colab\"/></a>"
      ]
    },
    {
      "cell_type": "code",
      "metadata": {
        "id": "L2pvx1GqHzRE",
        "colab_type": "code",
        "colab": {}
      },
      "source": [
        "import numpy as np\n",
        "# import scipy.misc as smp\n",
        "from PIL import Image as im\n",
        "import matplotlib.pyplot as plt\n",
        "%matplotlib inline\n",
        "from IPython.display import Image, display"
      ],
      "execution_count": 1,
      "outputs": []
    },
    {
      "cell_type": "markdown",
      "metadata": {
        "id": "lpyb1gVVarao",
        "colab_type": "text"
      },
      "source": [
        "# circle"
      ]
    },
    {
      "cell_type": "code",
      "metadata": {
        "id": "JvbpAa5KK_Co",
        "colab_type": "code",
        "colab": {}
      },
      "source": [
        "# Test for circle function out of bound\n",
        "# for i in range(333):\n",
        "#   k = np.random.random_sample(size=2)\n",
        "#   col_random = np.int(16*k[0])+6\n",
        "#   row_random = np.int(16*k[1])+6\n",
        "#   cr = 5\n",
        "#   print(\"col_max{0}, col_min{1}, row_max{2}, row_min{3}\".format(col_random+cr, col_random-cr, row_random+cr, row_random-cr))\n",
        "#   if(((col_random+cr)>=28) | ((col_random-cr)<1)):\n",
        "#     print(\"col_random is out of bound\")\n",
        "#   if(((row_random+cr)>=28) | ((row_random-cr)<1)):\n",
        "#     print(\"row_random is out of bound\")"
      ],
      "execution_count": null,
      "outputs": []
    },
    {
      "cell_type": "code",
      "metadata": {
        "id": "mO1tK9l2zRun",
        "colab_type": "code",
        "colab": {}
      },
      "source": [
        "def create_circle_random(size = 28, radius = 5, color = 255):\n",
        "  k = np.random.random_sample(size=2)\n",
        "  col_random = np.int(16*k[0])+6\n",
        "  row_random = np.int(16*k[1])+6\n",
        "  data = np.zeros((size, size), dtype = np.uint8)\n",
        "  ci,cj = row_random, col_random\n",
        "  cr = radius\n",
        "  if(((col_random+cr)>=28) | ((col_random-cr)<1)):\n",
        "    print(\"col_random is out of bound\")\n",
        "  if(((row_random+cr)>=28) | ((row_random-cr)<1)):\n",
        "    print(\"row_random is out of bound\")\n",
        "  I,J = np.meshgrid(np.arange(data.shape[0]), np.arange(data.shape[1]))\n",
        "  # basic formula for a circle (x - a)**2 + (y - b)**2 = r**2\n",
        "  # calculate the radius\n",
        "  dist = np.sqrt((I-ci)**2 +(J-cj)**2)\n",
        "  # Assign value of any for those points within radius\n",
        "  data[np.where(dist<cr)] = color\n",
        "  # img = im.fromarray(data)\n",
        "  return data.flatten()"
      ],
      "execution_count": 2,
      "outputs": []
    },
    {
      "cell_type": "code",
      "metadata": {
        "id": "B1TyktDTbGmP",
        "colab_type": "code",
        "colab": {}
      },
      "source": [
        "def create_circle(size, rows, cols, radius, color):\n",
        "  data = np.zeros((size, size), dtype = np.uint8)\n",
        "  ci,cj = rows, cols\n",
        "  cr = radius\n",
        "  I,J = np.meshgrid(np.arange(data.shape[0]), np.arange(data.shape[1]))\n",
        "  # basic formula for a circle (x - a)**2 + (y - b)**2 = r**2\n",
        "  # calculate the radius\n",
        "  dist = np.sqrt((I-ci)**2 +(J-cj)**2)\n",
        "  # Assign value of any for those points within radius\n",
        "  data[np.where(dist<cr)] = color\n",
        "  img = im.fromarray(data)\n",
        "  return data, img"
      ],
      "execution_count": null,
      "outputs": []
    },
    {
      "cell_type": "code",
      "metadata": {
        "id": "YNLJIIFecnRm",
        "colab_type": "code",
        "colab": {}
      },
      "source": [
        "plot1, img1 = create_circle(28, 15, 10, 5, 255)"
      ],
      "execution_count": null,
      "outputs": []
    },
    {
      "cell_type": "code",
      "metadata": {
        "id": "x1aVk3_Er1zx",
        "colab_type": "code",
        "colab": {
          "base_uri": "https://localhost:8080/",
          "height": 45
        },
        "outputId": "20b5a208-31a7-4221-86b5-3605f3ce8a65"
      },
      "source": [
        "img1"
      ],
      "execution_count": null,
      "outputs": [
        {
          "output_type": "execute_result",
          "data": {
            "image/png": "[encoded data removed]",
            "text/plain": [
              "<PIL.Image.Image image mode=L size=28x28 at 0x7F6788868160>"
            ]
          },
          "metadata": {
            "tags": []
          },
          "execution_count": 8
        }
      ]
    },
    {
      "cell_type": "code",
      "metadata": {
        "id": "IoiOHK7SXsXr",
        "colab_type": "code",
        "colab": {
          "base_uri": "https://localhost:8080/",
          "height": 265
        },
        "outputId": "585a55af-4a93-46c5-8271-7015c1214844"
      },
      "source": [
        "fig = plt.figure()\n",
        "ax = fig.add_subplot(111)\n",
        "ax.pcolormesh(plot1)\n",
        "ax.set_aspect('equal')\n",
        "plt.show()"
      ],
      "execution_count": null,
      "outputs": [
        {
          "output_type": "display_data",
          "data": {
            "image/png": "[encoded data removed]",
            "text/plain": [
              "<Figure size 432x288 with 1 Axes>"
            ]
          },
          "metadata": {
            "tags": [],
            "needs_background": "light"
          }
        }
      ]
    },
    {
      "cell_type": "markdown",
      "metadata": {
        "id": "Ig7t7uo3uMMH",
        "colab_type": "text"
      },
      "source": [
        "### Rectangle\n"
      ]
    },
    {
      "cell_type": "code",
      "metadata": {
        "id": "jc4myRE9uPhE",
        "colab_type": "code",
        "colab": {}
      },
      "source": [
        "def rect(size, start_x, start_y, color):\n",
        "  data = np.zeros((size, size), dtype = np.uint8)\n",
        "  rows = start_x + 4 \n",
        "  cols = start_y + 8\n",
        "  data[start_x:rows, start_y:cols] = color\n",
        "  img = im.fromarray(data)\n",
        "  return data,img"
      ],
      "execution_count": null,
      "outputs": []
    },
    {
      "cell_type": "code",
      "metadata": {
        "id": "wgd7QfkGow-x",
        "colab_type": "code",
        "colab": {}
      },
      "source": [
        "def rect_x_y(height, width):\n",
        "  k = np.random.random_sample(size=2)\n",
        "  start_x = np.int(27*k[0])\n",
        "  start_y = np.int(27*k[1])\n",
        "  rows = start_x + height \n",
        "  cols = start_y + width\n",
        "  return start_x, start_y, rows, cols\n"
      ],
      "execution_count": 3,
      "outputs": []
    },
    {
      "cell_type": "code",
      "metadata": {
        "id": "bOxFdXZnpDUR",
        "colab_type": "code",
        "colab": {}
      },
      "source": [
        "def rect_random(size, color):\n",
        "  data = np.zeros((size, size), dtype = np.uint8)\n",
        "  # x1, y1, x2, y2 = 0, 0, 0, 0\n",
        "  x1, y1, x2, y2 = rect_x_y(4, 8)\n",
        "  # print([x1, y1, x2, y2 ])\n",
        "  while((x2 >=28)|(y2 >=28)):\n",
        "    x1, y1, x2, y2 = rect_x_y(4, 8)\n",
        "  # print([x1, y1, x2, y2 ])\n",
        "  data[x1:x2, y1:y2] = color\n",
        "  # img = im.fromarray(data)\n",
        "  return data.flatten()\n",
        "  # return img"
      ],
      "execution_count": 4,
      "outputs": []
    },
    {
      "cell_type": "code",
      "metadata": {
        "id": "6UbFsNXWxw0Z",
        "colab_type": "code",
        "colab": {
          "base_uri": "https://localhost:8080/",
          "height": 78
        },
        "outputId": "0591bb41-fa3e-40df-bb0c-503aee88457a"
      },
      "source": [
        "rect_random(28, 255)"
      ],
      "execution_count": null,
      "outputs": [
        {
          "output_type": "stream",
          "text": [
            "[3, 22, 7, 30]\n",
            "[5, 17, 9, 25]\n"
          ],
          "name": "stdout"
        },
        {
          "output_type": "execute_result",
          "data": {
            "image/png": "[encoded data removed]",
            "text/plain": [
              "<PIL.Image.Image image mode=L size=28x28 at 0x7F1737631E48>"
            ]
          },
          "metadata": {
            "tags": []
          },
          "execution_count": 131
        }
      ]
    },
    {
      "cell_type": "code",
      "metadata": {
        "id": "H2E4l3Ca0ii6",
        "colab_type": "code",
        "colab": {
          "base_uri": "https://localhost:8080/",
          "height": 265
        },
        "outputId": "41612710-55ba-4206-c1ee-b3e3d6cff4b7"
      },
      "source": [
        "fig = plt.figure()\n",
        "ax = fig.add_subplot(111)\n",
        "ax.pcolormesh(recData)\n",
        "ax.set_aspect('equal')\n",
        "plt.show()"
      ],
      "execution_count": null,
      "outputs": [
        {
          "output_type": "display_data",
          "data": {
            "image/png": "[encoded data removed]",
            "text/plain": [
              "<Figure size 432x288 with 1 Axes>"
            ]
          },
          "metadata": {
            "tags": [],
            "needs_background": "light"
          }
        }
      ]
    },
    {
      "cell_type": "markdown",
      "metadata": {
        "id": "LrU5jBXTwfGo",
        "colab_type": "text"
      },
      "source": [
        "### Triangles"
      ]
    },
    {
      "cell_type": "code",
      "metadata": {
        "id": "8uvARweQ0bmP",
        "colab_type": "code",
        "colab": {}
      },
      "source": [
        "def triangle(size, start_x, start_y, color, diagonals = -1):\n",
        "  data = np.zeros((size, size), dtype = np.uint8)\n",
        "  # define a rectangle\n",
        "  rows = start_x + 8 \n",
        "  cols = start_y + 8\n",
        "  data[start_x:rows, start_y:cols] = color\n",
        "  # return lower triangle of rectangle\n",
        "  data[start_x:rows, start_y:cols] = np.tril(data[start_x:rows, start_y:cols], diagonals)\n",
        "  # return upper half triangle of rectangle\n",
        "  # data[start_x:rows, start_y:cols] = np.triu(data[start_x:rows, start_y:cols], diagonals)\n",
        "  img = im.fromarray(data)\n",
        "  return data, img"
      ],
      "execution_count": null,
      "outputs": []
    },
    {
      "cell_type": "code",
      "metadata": {
        "id": "ZzbSGpChyV5W",
        "colab_type": "code",
        "colab": {}
      },
      "source": [
        "def triang_ran(size, color, diagonals = -1):\n",
        "  data = np.zeros((size, size), dtype = np.uint8)\n",
        "  # define a rectangle\n",
        "  start_x, start_y, rows, cols = rect_x_y(8, 8)\n",
        "  # print([start_x, start_y, rows, cols])\n",
        "  while((rows >=28)|(cols >=28)):\n",
        "    start_x, start_y, rows, cols = rect_x_y(8, 8)\n",
        "  # print([start_x, start_y, rows, cols])\n",
        "  data[start_x:rows, start_y:cols] = color\n",
        "  # return lower triangle of rectangle\n",
        "  data[start_x:rows, start_y:cols] = np.tril(data[start_x:rows, start_y:cols], diagonals)\n",
        "  # return upper half triangle of rectangle\n",
        "  # data[start_x:rows, start_y:cols] = np.triu(data[start_x:rows, start_y:cols], diagonals)\n",
        "  # img = im.fromarray(data)\n",
        "  # return img\n",
        "  return data.flatten()"
      ],
      "execution_count": 5,
      "outputs": []
    },
    {
      "cell_type": "code",
      "metadata": {
        "id": "MITEtUK72BvP",
        "colab_type": "code",
        "colab": {}
      },
      "source": [
        "triaData, triaImg = triangle(28, 10, 12, 255)"
      ],
      "execution_count": null,
      "outputs": []
    },
    {
      "cell_type": "code",
      "metadata": {
        "id": "aetlegqG2NKG",
        "colab_type": "code",
        "colab": {
          "base_uri": "https://localhost:8080/",
          "height": 45
        },
        "outputId": "57b95046-1aff-46d5-eaf3-a6ddb4d980de"
      },
      "source": [
        "triaImg"
      ],
      "execution_count": null,
      "outputs": [
        {
          "output_type": "execute_result",
          "data": {
            "image/png": "[encoded data removed]",
            "text/plain": [
              "<PIL.Image.Image image mode=L size=28x28 at 0x7F67885E1908>"
            ]
          },
          "metadata": {
            "tags": []
          },
          "execution_count": 53
        }
      ]
    },
    {
      "cell_type": "markdown",
      "metadata": {
        "id": "MT59RdtiM08i",
        "colab_type": "text"
      },
      "source": [
        "### Random generate "
      ]
    },
    {
      "cell_type": "code",
      "metadata": {
        "id": "YXaTpFdBMyGX",
        "colab_type": "code",
        "colab": {}
      },
      "source": [
        "def random_shape():\n",
        "  data = np.array([])\n",
        "  name = \"\"\n",
        "  prob = np.random.random_sample()\n",
        "  if(prob<= 0.33333333333333333):\n",
        "    data = create_circle_random(28, 5, 255)\n",
        "    name = \"C\"\n",
        "  elif((prob> 0.33333333333333333) & (prob<= 0.66666666666666666)):\n",
        "    data = rect_random(28, 255)\n",
        "    name = \"R\"\n",
        "  else:\n",
        "    data = triang_ran(28, 255)\n",
        "    name = 'T'\n",
        "  return data, name"
      ],
      "execution_count": 6,
      "outputs": []
    },
    {
      "cell_type": "markdown",
      "metadata": {
        "id": "5FIeXPgC5P8N",
        "colab_type": "text"
      },
      "source": [
        "#### Load data"
      ]
    },
    {
      "cell_type": "code",
      "metadata": {
        "id": "Qg7zselBQJhF",
        "colab_type": "code",
        "colab": {}
      },
      "source": [
        "# img = im.fromarray(np.reshape(shape_vect[0], (-1, 28)))\n",
        "# img"
      ],
      "execution_count": null,
      "outputs": []
    },
    {
      "cell_type": "code",
      "metadata": {
        "id": "S8vMzwPT5YLh",
        "colab_type": "code",
        "colab": {}
      },
      "source": [
        "def random_generate(size):\n",
        "  shape_vect = []\n",
        "  shape_name = []\n",
        "  for i in range(size):\n",
        "    s_vect, s_name = random_shape()\n",
        "    shape_vect.append(s_vect)\n",
        "    shape_name.append(s_name)\n",
        "  num_2d_shape = np.array(shape_vect).reshape(-1, 784)\n",
        "  return num_2d_shape, shape_name"
      ],
      "execution_count": 7,
      "outputs": []
    },
    {
      "cell_type": "code",
      "metadata": {
        "id": "36CRFkml5vW8",
        "colab_type": "code",
        "colab": {}
      },
      "source": [
        "train_shape, train_name =  random_generate(20)"
      ],
      "execution_count": 8,
      "outputs": []
    },
    {
      "cell_type": "code",
      "metadata": {
        "id": "gRWU0X8S6Bk9",
        "colab_type": "code",
        "colab": {}
      },
      "source": [
        "test_shape, test_name =  random_generate(10)"
      ],
      "execution_count": 9,
      "outputs": []
    },
    {
      "cell_type": "markdown",
      "metadata": {
        "id": "ATIF1bZfxc7g",
        "colab_type": "text"
      },
      "source": [
        "### Simple example of CNN"
      ]
    },
    {
      "cell_type": "code",
      "metadata": {
        "id": "NYUGkyRpC90s",
        "colab_type": "code",
        "colab": {}
      },
      "source": [
        "from keras.utils.np_utils import to_categorical"
      ],
      "execution_count": 10,
      "outputs": []
    },
    {
      "cell_type": "markdown",
      "metadata": {
        "id": "6TEa39Z56KjK",
        "colab_type": "text"
      },
      "source": [
        "Normalization  CNN converg faster on [0..1] data than on [0..255]."
      ]
    },
    {
      "cell_type": "code",
      "metadata": {
        "id": "ax_g6LSzBJDK",
        "colab_type": "code",
        "colab": {}
      },
      "source": [
        "train_shape_N = train_shape/255.0\n",
        "test_shape_N = test_shape/255.0"
      ],
      "execution_count": 11,
      "outputs": []
    },
    {
      "cell_type": "markdown",
      "metadata": {
        "id": "6SDthUeOBaJI",
        "colab_type": "text"
      },
      "source": [
        "Reshape"
      ]
    },
    {
      "cell_type": "code",
      "metadata": {
        "id": "dhhvZNClBYM0",
        "colab_type": "code",
        "colab": {}
      },
      "source": [
        "train_shape_R = train_shape_N.reshape(-1, 28, 28, 1)"
      ],
      "execution_count": 12,
      "outputs": []
    },
    {
      "cell_type": "code",
      "metadata": {
        "id": "yOT_8BcACmpn",
        "colab_type": "code",
        "colab": {}
      },
      "source": [
        "test_shape_R = test_shape_N.reshape(-1, 28, 28, 1)"
      ],
      "execution_count": 13,
      "outputs": []
    },
    {
      "cell_type": "markdown",
      "metadata": {
        "id": "n83mkBxOCy95",
        "colab_type": "text"
      },
      "source": [
        "Label encoding"
      ]
    },
    {
      "cell_type": "code",
      "metadata": {
        "id": "4f-dPZtHDqkd",
        "colab_type": "code",
        "colab": {}
      },
      "source": [
        "shape = ['C', \"T\", \"R\"]"
      ],
      "execution_count": 14,
      "outputs": []
    },
    {
      "cell_type": "code",
      "metadata": {
        "id": "EjPPLW5FDj93",
        "colab_type": "code",
        "colab": {}
      },
      "source": [
        "# Mapping \n",
        "mapping = {}\n",
        "for x in range(len(shape)):\n",
        "  mapping[shape[x]] = x"
      ],
      "execution_count": 15,
      "outputs": []
    },
    {
      "cell_type": "code",
      "metadata": {
        "id": "0wiau5mHGfoi",
        "colab_type": "code",
        "colab": {
          "base_uri": "https://localhost:8080/",
          "height": 34
        },
        "outputId": "eb7c15e0-33fb-4d91-d25f-a0db90f219c4"
      },
      "source": [
        "mapping"
      ],
      "execution_count": 16,
      "outputs": [
        {
          "output_type": "execute_result",
          "data": {
            "text/plain": [
              "{'C': 0, 'R': 2, 'T': 1}"
            ]
          },
          "metadata": {
            "tags": []
          },
          "execution_count": 16
        }
      ]
    },
    {
      "cell_type": "code",
      "metadata": {
        "id": "OaNLdNdKD7aQ",
        "colab_type": "code",
        "colab": {}
      },
      "source": [
        "# Integer representation\n",
        "for x in range(len(train_name)):\n",
        "  train_name[x] = mapping[train_name[x]]"
      ],
      "execution_count": 17,
      "outputs": []
    },
    {
      "cell_type": "code",
      "metadata": {
        "id": "KrPCnNEdCyIh",
        "colab_type": "code",
        "colab": {}
      },
      "source": [
        "y = to_categorical(train_name)"
      ],
      "execution_count": 18,
      "outputs": []
    },
    {
      "cell_type": "markdown",
      "metadata": {
        "id": "7vw5xbbSEtIK",
        "colab_type": "text"
      },
      "source": [
        "split training and validation set"
      ]
    },
    {
      "cell_type": "code",
      "metadata": {
        "id": "hV1g4VpxFEgQ",
        "colab_type": "code",
        "colab": {}
      },
      "source": [
        "from sklearn.model_selection import train_test_split"
      ],
      "execution_count": 19,
      "outputs": []
    },
    {
      "cell_type": "code",
      "metadata": {
        "id": "GVOxbAM9EhfT",
        "colab_type": "code",
        "colab": {}
      },
      "source": [
        "X_train, X_test, y_train, y_test = train_test_split(train_shape_R, y, test_size = 0.2, random_state = 0)"
      ],
      "execution_count": 32,
      "outputs": []
    },
    {
      "cell_type": "markdown",
      "metadata": {
        "id": "b7Z634FBFjoC",
        "colab_type": "text"
      },
      "source": [
        "Data visualization"
      ]
    },
    {
      "cell_type": "code",
      "metadata": {
        "id": "WEgo_CD3FagV",
        "colab_type": "code",
        "colab": {}
      },
      "source": [
        "X_train__ = x_train.reshape(X_train.shape[0], 28, 28)"
      ],
      "execution_count": 21,
      "outputs": []
    },
    {
      "cell_type": "code",
      "metadata": {
        "id": "xylfwaKuF8bY",
        "colab_type": "code",
        "colab": {
          "base_uri": "https://localhost:8080/",
          "height": 179
        },
        "outputId": "21a1e666-f1fb-4606-a879-a6a76b7efa9b"
      },
      "source": [
        "fig, axis = plt.subplots(1, 4, figsize = (20, 10))\n",
        "for i, ax in enumerate(axis.flat):\n",
        "  ax.imshow(X_train__[i], cmap = 'binary')\n",
        "  digit = y_train[i].argmax()\n",
        "  ax.set(title = f\"real number is {digit}\")"
      ],
      "execution_count": 22,
      "outputs": [
        {
          "output_type": "display_data",
          "data": {
            "image/png": "[encoded data removed]",
            "text/plain": [
              "<Figure size 1440x720 with 4 Axes>"
            ]
          },
          "metadata": {
            "tags": [],
            "needs_background": "light"
          }
        }
      ]
    },
    {
      "cell_type": "markdown",
      "metadata": {
        "id": "m0tJtOH3GlYy",
        "colab_type": "text"
      },
      "source": [
        "normalization"
      ]
    },
    {
      "cell_type": "code",
      "metadata": {
        "id": "-OTYvaaLGk8S",
        "colab_type": "code",
        "colab": {}
      },
      "source": [
        "mean = np.mean(X_train)\n",
        "std = np.std(X_train)\n",
        "def standardize(x):\n",
        "  return(x - mean)/std"
      ],
      "execution_count": 23,
      "outputs": []
    },
    {
      "cell_type": "code",
      "metadata": {
        "id": "p-A7Q6YLGeMZ",
        "colab_type": "code",
        "colab": {}
      },
      "source": [
        "epoch = 2\n",
        "batch_sizes = 3"
      ],
      "execution_count": 34,
      "outputs": []
    },
    {
      "cell_type": "markdown",
      "metadata": {
        "id": "CQH3QZhPl7_M",
        "colab_type": "text"
      },
      "source": [
        "Define the model\n",
        "Conv (filter)\n",
        "32 filters for the 2* conv2D layers\n",
        "64 filters for the two second layers\n",
        "128 filters for two third layers \n",
        "256 for the last ones\n",
        "\n",
        "Pooling\n",
        "\n",
        "Maxpooling 2D - Downsampling filter\n",
        "- reduce overfitting\n",
        "\n",
        "Convolutional + pooling layers allow CNN to combine local features and learn more global features of image.\n",
        "\n",
        "Flatten layer - Convert the final feature maps into a one single 1D vector. - Allow you make use of fully connected layer.\n"
      ]
    },
    {
      "cell_type": "code",
      "metadata": {
        "id": "pExiCQARgj6J",
        "colab_type": "code",
        "colab": {}
      },
      "source": [
        "from keras.models import Sequential\n",
        "from keras.layers import Conv2D, Lambda, MaxPooling2D\n",
        "from keras.layers import Dense, Dropout, Flatten\n",
        "from keras.layers.normalization import BatchNormalization\n",
        "from keras.preprocessing.image import ImageDataGenerator"
      ],
      "execution_count": 42,
      "outputs": []
    },
    {
      "cell_type": "code",
      "metadata": {
        "id": "ICFVxs0hotSw",
        "colab_type": "code",
        "colab": {}
      },
      "source": [
        "model = Sequential()\n",
        "model.add(Conv2D(filters=64, kernel_size= (3, 3), activation=\"relu\", input_shape = (28, 28, 1)))\n",
        "model.add(Conv2D(filters=64, kernel_size= (3, 3), activation=\"relu\", input_shape = (28, 28, 1)))"
      ],
      "execution_count": 43,
      "outputs": []
    },
    {
      "cell_type": "code",
      "metadata": {
        "id": "PJQbdtoNpQBB",
        "colab_type": "code",
        "colab": {}
      },
      "source": [
        "model.add(MaxPooling2D(pool_size = (2, 2)))\n",
        "model.add(BatchNormalization())\n",
        "model.add(Conv2D(filters=128, kernel_size=(3, 3), activation = 'relu'))\n",
        "model.add(Conv2D(filters=128, kernel_size=(3, 3), activation = 'relu'))\n",
        "\n",
        "model.add(MaxPooling2D(pool_size= (2, 2)))\n",
        "model.add(BatchNormalization())\n",
        "model.add(Conv2D(filters=256, kernel_size=(3, 3), activation = 'relu'))"
      ],
      "execution_count": 44,
      "outputs": []
    },
    {
      "cell_type": "code",
      "metadata": {
        "id": "aCbnHcTXrTug",
        "colab_type": "code",
        "colab": {}
      },
      "source": [
        "model.add(MaxPooling2D(pool_size=(2, 2)))"
      ],
      "execution_count": 45,
      "outputs": []
    },
    {
      "cell_type": "code",
      "metadata": {
        "id": "UQwtnBpjroUX",
        "colab_type": "code",
        "colab": {}
      },
      "source": [
        "model.add(Flatten())\n",
        "model.add(BatchNormalization())\n",
        "model.add(Dense(3, activation= \"softmax\"))\n",
        "model.compile(loss= \"categorical_crossentropy\", optimizer='adam', metrics=['accuracy'])"
      ],
      "execution_count": 46,
      "outputs": []
    },
    {
      "cell_type": "markdown",
      "metadata": {
        "id": "spzd5JkAurrb",
        "colab_type": "text"
      },
      "source": [
        "Data augmentation\n",
        "- alter the training data with small transformation to reproduce the variations occuring when drawing the rectangle?\n",
        "- alter the training data in ways that change the array representation while keeping the label the same.\n",
        "- Popular augmentations: grayscales, horizontal flips, vertical flips, random crops, color jitters, translation, rotations."
      ]
    },
    {
      "cell_type": "code",
      "metadata": {
        "id": "mc3jv_SGnV1c",
        "colab_type": "code",
        "colab": {}
      },
      "source": [
        "datagen = ImageDataGenerator(featurewise_center=False, samplewise_center = False,\n",
        "                             featurewise_std_normalization =False, samplewise_std_normalization = False,\n",
        "                             zca_whitening = False, rotation_range = 10, horizontal_flip = True, vertical_flip = True)"
      ],
      "execution_count": 47,
      "outputs": []
    },
    {
      "cell_type": "markdown",
      "metadata": {
        "id": "SW_O9Ipdpx-0",
        "colab_type": "text"
      },
      "source": [
        "- Randomly rotate some training images by 10%\n",
        "- randomly horizontal flip some training image\n",
        "- randomly vertical flip some training image\n",
        "- I did not apply zoom in nor shift image hirzontally or vertically, because object has random position in the image, some very near the side, zoom in or shift images may make the object dispear."
      ]
    },
    {
      "cell_type": "code",
      "metadata": {
        "id": "xU29qzEgukLl",
        "colab_type": "code",
        "colab": {}
      },
      "source": [
        "# transform the image data\n",
        "train_gen = datagen.flow(X_train, y_train, batch_size=batch_sizes)\n",
        "test_gen = datagen.flow(X_test, y_test, batch_size=batch_sizes)"
      ],
      "execution_count": 48,
      "outputs": []
    },
    {
      "cell_type": "markdown",
      "metadata": {
        "id": "P01Q-DNXpoW1",
        "colab_type": "text"
      },
      "source": [
        "#### Model training"
      ]
    },
    {
      "cell_type": "code",
      "metadata": {
        "id": "-AImytlzrpxv",
        "colab_type": "code",
        "colab": {
          "base_uri": "https://localhost:8080/",
          "height": 34
        },
        "outputId": "47c8f52e-9731-47b1-b75a-1d1681f9d8cd"
      },
      "source": [
        "batch_size"
      ],
      "execution_count": 40,
      "outputs": [
        {
          "output_type": "execute_result",
          "data": {
            "text/plain": [
              "3"
            ]
          },
          "metadata": {
            "tags": []
          },
          "execution_count": 40
        }
      ]
    },
    {
      "cell_type": "code",
      "metadata": {
        "id": "bNQ1sT0bpuT0",
        "colab_type": "code",
        "colab": {
          "base_uri": "https://localhost:8080/",
          "height": 104
        },
        "outputId": "dd2f68eb-bbc4-4599-b2a8-da5d597e402e"
      },
      "source": [
        "history = model.fit_generator(generator=train_gen, epochs= epoch, steps_per_epoch= X_train.shape[0] // batch_size, validation_data=test_gen, validation_steps = X_test.shape[0] // batch_size)"
      ],
      "execution_count": 49,
      "outputs": [
        {
          "output_type": "stream",
          "text": [
            "Epoch 1/2\n",
            "5/5 [==============================] - 0s 78ms/step - loss: 1.7493 - accuracy: 0.4615 - val_loss: 1.0127 - val_accuracy: 0.6667\n",
            "Epoch 2/2\n",
            "5/5 [==============================] - 0s 34ms/step - loss: 2.3848 - accuracy: 0.3077 - val_loss: 0.9160 - val_accuracy: 1.0000\n"
          ],
          "name": "stdout"
        }
      ]
    }
  ]
}