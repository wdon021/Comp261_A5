{
  "nbformat": 4,
  "nbformat_minor": 0,
  "metadata": {
    "colab": {
      "name": "Comp421_Assignment_2.ipynb",
      "provenance": [],
      "authorship_tag": "ABX9TyOQ5qCc53KKLDW4odT5GY+t",
      "include_colab_link": true
    },
    "kernelspec": {
      "name": "python3",
      "display_name": "Python 3"
    }
  },
  "cells": [
    {
      "cell_type": "markdown",
      "metadata": {
        "id": "view-in-github",
        "colab_type": "text"
      },
      "source": [
        "<a href=\"https://colab.research.google.com/github/wdon021/Comp261_A5/blob/master/Comp421_Assignment_2.ipynb\" target=\"_parent\"><img src=\"https://colab.research.google.com/assets/colab-badge.svg\" alt=\"Open In Colab\"/></a>"
      ]
    },
    {
      "cell_type": "code",
      "metadata": {
        "id": "GBAzYUcySIoo",
        "colab_type": "code",
        "colab": {}
      },
      "source": [
        "# create bivariate normaldistribution"
      ],
      "execution_count": 1,
      "outputs": []
    },
    {
      "cell_type": "code",
      "metadata": {
        "id": "IrNRFFEVaH7h",
        "colab_type": "code",
        "colab": {}
      },
      "source": [
        "import matplotlib.pyplot as plt\n",
        "import numpy as np\n",
        "import math\n",
        "from mpl_toolkits import mplot3d\n",
        "import pandas as pd\n",
        "from sklearn.model_selection import train_test_split\n",
        "%matplotlib inline"
      ],
      "execution_count": 2,
      "outputs": []
    },
    {
      "cell_type": "code",
      "metadata": {
        "id": "sDWyc2quAQxh",
        "colab_type": "code",
        "colab": {}
      },
      "source": [
        "from keras.models import Sequential\n",
        "from keras.layers import Dense\n",
        "from keras.wrappers.scikit_learn import KerasRegressor\n",
        "from sklearn.model_selection import cross_val_score\n",
        "from sklearn.model_selection import KFold\n",
        "from sklearn.preprocessing import StandardScaler\n",
        "from sklearn.pipeline import Pipeline\n",
        "from tensorflow import keras\n",
        "import keras.backend as kb\n",
        "import tensorflow as tf\n",
        "from tensorflow.keras import layers\n",
        "import datetime"
      ],
      "execution_count": 3,
      "outputs": []
    },
    {
      "cell_type": "code",
      "metadata": {
        "id": "3lWrlG9L2RvQ",
        "colab_type": "code",
        "colab": {}
      },
      "source": [
        "from numpy import linalg as LA"
      ],
      "execution_count": 30,
      "outputs": []
    },
    {
      "cell_type": "code",
      "metadata": {
        "id": "d8bBSuYoaJY0",
        "colab_type": "code",
        "colab": {}
      },
      "source": [
        "mean = [0, 0]\n",
        "cov = [[1, 0],\n",
        "       [0, 1]]"
      ],
      "execution_count": 4,
      "outputs": []
    },
    {
      "cell_type": "code",
      "metadata": {
        "id": "hvQv96skaSMM",
        "colab_type": "code",
        "colab": {}
      },
      "source": [
        "united = np.random.multivariate_normal(mean, cov, 4000)"
      ],
      "execution_count": 80,
      "outputs": []
    },
    {
      "cell_type": "code",
      "metadata": {
        "id": "ct9ACZgbE5dQ",
        "colab_type": "code",
        "colab": {}
      },
      "source": [
        "def same_kernel(X, lam):\n",
        "  Kernel_matrix = [np.exp(-np.square(LA.norm(np.delete(X[i]-X, obj=i,axis=0), axis=1))/lam) for i in range(len(X))]\n",
        "  double_sum = np.sum(Kernel_matrix)\n",
        "  final = double_sum/(len(X)*(len(X)-1))\n",
        "  return final\n",
        "\n",
        "def dif_kernel(X,Y, lam):\n",
        "  kernel_maxtrix = [np.exp(-np.square(LA.norm((X[i]-Y), axis=1)) /lam) for i in range(len(X))]\n",
        "  double_sum = np.sum(kernel_maxtrix)\n",
        "  final = double_sum/(len(X)*(len(Y)))\n",
        "  return final\n"
      ],
      "execution_count": 66,
      "outputs": []
    },
    {
      "cell_type": "code",
      "metadata": {
        "id": "Uw5FOdtbQYcH",
        "colab_type": "code",
        "colab": {}
      },
      "source": [
        "def same_kernel(X, lam):\n",
        "  Kernel_matrix = [np.exp(-np.square(LA.norm(np.delete(X[i]-X, obj=i,axis=0), axis=1))/lam) for i in range(len(X))]\n",
        "  double_sum = tf.reduce_sum(Kernel_matrix)\n",
        "  final = double_sum/(len(X)*(len(X)-1))\n",
        "  return final"
      ],
      "execution_count": 72,
      "outputs": []
    },
    {
      "cell_type": "code",
      "metadata": {
        "id": "OQITjk380wVP",
        "colab_type": "code",
        "colab": {}
      },
      "source": [
        "def same_kernels(X, lamb):\n",
        "  return (tf.reduce_sum([tf.exp(-tf.square(tf.norm(X[i]-X, ord='euclidean', axis=1))/lamb) for i in range(len(X))])-len(X))/(len(X)*(len(X)-1))"
      ],
      "execution_count": 106,
      "outputs": []
    },
    {
      "cell_type": "code",
      "metadata": {
        "id": "GVBhf5HL1ECl",
        "colab_type": "code",
        "colab": {}
      },
      "source": [
        "z1 = tf.expand_dims(united, 0)\n",
        "z2 = tf.expand_dims(united, 1)"
      ],
      "execution_count": 112,
      "outputs": []
    },
    {
      "cell_type": "code",
      "metadata": {
        "id": "7EyAgGyV1Soe",
        "colab_type": "code",
        "colab": {
          "base_uri": "https://localhost:8080/",
          "height": 34
        },
        "outputId": "4a9f6e2c-5943-4ce4-a709-5efa92e4264d"
      },
      "source": [
        "(tf.reduce_sum(tf.exp(-tf.reduce_sum(tf.math.squared_difference(z1, z2),axis= -1)/2))-len(united))/(len(united)*(len(united)-1))"
      ],
      "execution_count": 113,
      "outputs": [
        {
          "output_type": "execute_result",
          "data": {
            "text/plain": [
              "<tf.Tensor: shape=(), dtype=float64, numpy=0.33170381171753033>"
            ]
          },
          "metadata": {
            "tags": []
          },
          "execution_count": 113
        }
      ]
    },
    {
      "cell_type": "code",
      "metadata": {
        "id": "PBd_Cmwv05_y",
        "colab_type": "code",
        "colab": {
          "base_uri": "https://localhost:8080/",
          "height": 34
        },
        "outputId": "fdcc29c3-ca44-4090-e8f3-a4bff9bb92dc"
      },
      "source": [
        "same_kernels(united, 2)"
      ],
      "execution_count": 111,
      "outputs": [
        {
          "output_type": "execute_result",
          "data": {
            "text/plain": [
              "<tf.Tensor: shape=(), dtype=float64, numpy=0.33170381171753033>"
            ]
          },
          "metadata": {
            "tags": []
          },
          "execution_count": 111
        }
      ]
    },
    {
      "cell_type": "code",
      "metadata": {
        "id": "NF5uE_5lK5Du",
        "colab_type": "code",
        "colab": {
          "base_uri": "https://localhost:8080/",
          "height": 34
        },
        "outputId": "4d4fb6ef-c662-439b-b761-9d4fe861a2d0"
      },
      "source": [
        "dif_kernel(united, data,2)"
      ],
      "execution_count": 91,
      "outputs": [
        {
          "output_type": "execute_result",
          "data": {
            "text/plain": [
              "0.42035125447309457"
            ]
          },
          "metadata": {
            "tags": []
          },
          "execution_count": 91
        }
      ]
    },
    {
      "cell_type": "code",
      "metadata": {
        "id": "uqyF-gltQhOM",
        "colab_type": "code",
        "colab": {
          "base_uri": "https://localhost:8080/",
          "height": 34
        },
        "outputId": "e841866b-8aeb-4ead-e002-a3c9b7633731"
      },
      "source": [
        "same_kernel(united, 2)"
      ],
      "execution_count": 81,
      "outputs": [
        {
          "output_type": "execute_result",
          "data": {
            "text/plain": [
              "<tf.Tensor: shape=(), dtype=float64, numpy=0.33170381171753033>"
            ]
          },
          "metadata": {
            "tags": []
          },
          "execution_count": 81
        }
      ]
    },
    {
      "cell_type": "code",
      "metadata": {
        "id": "jK5DwV_DHlZM",
        "colab_type": "code",
        "colab": {
          "base_uri": "https://localhost:8080/",
          "height": 34
        },
        "outputId": "dd2d3dbc-c7bd-442b-ad54-573e7751eae1"
      },
      "source": [
        "same_kernel(united, 2)"
      ],
      "execution_count": 82,
      "outputs": [
        {
          "output_type": "execute_result",
          "data": {
            "text/plain": [
              "<tf.Tensor: shape=(), dtype=float64, numpy=0.33170381171753033>"
            ]
          },
          "metadata": {
            "tags": []
          },
          "execution_count": 82
        }
      ]
    },
    {
      "cell_type": "code",
      "metadata": {
        "id": "M8TTc7ixjNYL",
        "colab_type": "code",
        "colab": {
          "base_uri": "https://localhost:8080/",
          "height": 34
        },
        "outputId": "b57a723d-c724-4c37-fa5e-f069b36e2b97"
      },
      "source": [
        "(tf.reduce_sum([tf.exp(-tf.square(tf.norm(united[i]-united, axis=1))/2) for i in range(len(united))])-100)/(len(united)*(len(united)-1))"
      ],
      "execution_count": 79,
      "outputs": [
        {
          "output_type": "execute_result",
          "data": {
            "text/plain": [
              "<tf.Tensor: shape=(), dtype=float64, numpy=0.3530336311646113>"
            ]
          },
          "metadata": {
            "tags": []
          },
          "execution_count": 79
        }
      ]
    },
    {
      "cell_type": "code",
      "metadata": {
        "id": "jEAS7LFG7cMH",
        "colab_type": "code",
        "colab": {
          "base_uri": "https://localhost:8080/",
          "height": 34
        },
        "outputId": "ba6355d9-32ef-4df6-ccd5-a8a80aa0d37f"
      },
      "source": [
        "np.sum(np.sum([np.exp(-np.square(LA.norm(np.delete(united[i]-united, obj=i,axis=0), axis=1))/2) for i in range(len(united))],axis=1))/(len(united)*(len(united)-1))"
      ],
      "execution_count": 55,
      "outputs": [
        {
          "output_type": "execute_result",
          "data": {
            "text/plain": [
              "0.3530336311646113"
            ]
          },
          "metadata": {
            "tags": []
          },
          "execution_count": 55
        }
      ]
    },
    {
      "cell_type": "code",
      "metadata": {
        "id": "UqWTaaFmAKQo",
        "colab_type": "code",
        "colab": {
          "base_uri": "https://localhost:8080/",
          "height": 34
        },
        "outputId": "9e3bb732-49e9-46e4-9893-87cb48dccbec"
      },
      "source": [
        "np.sum(np.exp(-np.square(LA.norm((united[0]-united)[1:], axis=1))/2))"
      ],
      "execution_count": 52,
      "outputs": [
        {
          "output_type": "execute_result",
          "data": {
            "text/plain": [
              "21.320639680540946"
            ]
          },
          "metadata": {
            "tags": []
          },
          "execution_count": 52
        }
      ]
    },
    {
      "cell_type": "code",
      "metadata": {
        "id": "ueD9HQkTaWQr",
        "colab_type": "code",
        "colab": {}
      },
      "source": [
        "x11, x22 = united.T"
      ],
      "execution_count": 6,
      "outputs": []
    },
    {
      "cell_type": "code",
      "metadata": {
        "id": "cXEVo42G4L-Z",
        "colab_type": "code",
        "colab": {}
      },
      "source": [
        "n = 4000\n",
        "xy_min = [0, 0]\n",
        "xy_max = [1, 1]\n",
        "data = np.random.uniform(low = xy_min, high = xy_max, size=(n, 2))"
      ],
      "execution_count": 83,
      "outputs": []
    },
    {
      "cell_type": "code",
      "metadata": {
        "id": "EHutnpV8E2ug",
        "colab_type": "code",
        "colab": {
          "base_uri": "https://localhost:8080/",
          "height": 34
        },
        "outputId": "a270d62e-7b40-48fd-9aa5-47699018d06f"
      },
      "source": [
        "same_kernel(data, 2)"
      ],
      "execution_count": 84,
      "outputs": [
        {
          "output_type": "execute_result",
          "data": {
            "text/plain": [
              "<tf.Tensor: shape=(), dtype=float64, numpy=0.8554267620713089>"
            ]
          },
          "metadata": {
            "tags": []
          },
          "execution_count": 84
        }
      ]
    },
    {
      "cell_type": "code",
      "metadata": {
        "id": "LxosQiVvIDqF",
        "colab_type": "code",
        "colab": {
          "base_uri": "https://localhost:8080/",
          "height": 1000
        },
        "outputId": "47514fa6-e3d2-4494-b5ad-7cfb65936fec"
      },
      "source": [
        "np.sum([np.exp(-np.square(LA.norm((united[i]-data), axis=1)) /2) for i in range(len(united))]"
      ],
      "execution_count": 62,
      "outputs": [
        {
          "output_type": "execute_result",
          "data": {
            "text/plain": [
              "[array([0.23618596, 0.16777862, 0.22082352, ..., 0.16375357, 0.19623742,\n",
              "        0.07950377]),\n",
              " array([0.54294265, 0.76893426, 0.73804035, ..., 0.30092037, 0.42765357,\n",
              "        0.40908426]),\n",
              " array([0.01874541, 0.11981694, 0.06167206, ..., 0.00482147, 0.01107334,\n",
              "        0.03504671]),\n",
              " array([0.81524049, 0.81109286, 0.88939765, ..., 0.57078474, 0.70998384,\n",
              "        0.58509792]),\n",
              " array([0.78904745, 0.89625672, 0.89753246, ..., 0.60039954, 0.73497374,\n",
              "        0.97200413]),\n",
              " array([0.72421149, 0.33876166, 0.50257574, ..., 0.77588467, 0.7469953 ,\n",
              "        0.37363147]),\n",
              " array([0.55656026, 0.65127027, 0.63175695, ..., 0.45274221, 0.54207647,\n",
              "        0.8964655 ]),\n",
              " array([0.12672035, 0.40126573, 0.26300588, ..., 0.05718278, 0.09703974,\n",
              "        0.28949503]),\n",
              " array([0.25873665, 0.2885583 , 0.27796836, ..., 0.24138403, 0.27252118,\n",
              "        0.5708966 ]),\n",
              " array([0.02942684, 0.14192992, 0.07766081, ..., 0.01101513, 0.02114836,\n",
              "        0.09422157]),\n",
              " array([0.51265045, 0.29064508, 0.37398859, ..., 0.64802308, 0.59917498,\n",
              "        0.66383779]),\n",
              " array([0.27552972, 0.25626919, 0.30134839, ..., 0.16739496, 0.21814206,\n",
              "        0.11086598]),\n",
              " array([0.09758757, 0.29551709, 0.21277781, ..., 0.03282584, 0.06205773,\n",
              "        0.08253794]),\n",
              " array([0.63116563, 0.53708693, 0.6378749 , ..., 0.44900708, 0.54460988,\n",
              "        0.33937866]),\n",
              " array([0.38826255, 0.44515459, 0.42930591, ..., 0.33881715, 0.39384017,\n",
              "        0.74157892]),\n",
              " array([0.87909908, 0.91777414, 0.95679603, ..., 0.68282846, 0.82078591,\n",
              "        0.96120387]),\n",
              " array([0.83039565, 0.58440384, 0.703506  , ..., 0.85467711, 0.87833544,\n",
              "        0.91546695]),\n",
              " array([0.86645757, 0.84700007, 0.93104352, ..., 0.62465658, 0.76661939,\n",
              "        0.65461312]),\n",
              " array([0.95632135, 0.63555395, 0.81054478, ..., 0.87864885, 0.93686443,\n",
              "        0.65869187]),\n",
              " array([0.2094434 , 0.31079605, 0.30241829, ..., 0.09871371, 0.15019693,\n",
              "        0.10640006]),\n",
              " array([0.24207152, 0.64270629, 0.46055907, ..., 0.11157582, 0.18381329,\n",
              "        0.40334373]),\n",
              " array([0.61541798, 0.80169442, 0.79383508, ..., 0.3610382 , 0.49686846,\n",
              "        0.46053053]),\n",
              " array([0.89564765, 0.47328733, 0.65806552, ..., 0.95798651, 0.93671317,\n",
              "        0.5982373 ]),\n",
              " array([0.90911147, 0.93636007, 0.99637373, ..., 0.66798191, 0.81899535,\n",
              "        0.81478074]),\n",
              " array([0.50204094, 0.73820856, 0.65720313, ..., 0.35062505, 0.45783414,\n",
              "        0.83103439]),\n",
              " array([0.12162266, 0.41329282, 0.27724978, ..., 0.04250143, 0.08029462,\n",
              "        0.1482264 ]),\n",
              " array([0.49506509, 0.86843194, 0.75511052, ..., 0.25693923, 0.38442227,\n",
              "        0.48442628]),\n",
              " array([0.31591966, 0.71948558, 0.56399939, ..., 0.14099198, 0.23082973,\n",
              "        0.34253484]),\n",
              " array([0.02059603, 0.10794591, 0.05695099, ..., 0.00745512, 0.01464759,\n",
              "        0.07121918]),\n",
              " array([0.93043113, 0.53420805, 0.71034055, ..., 0.99622905, 0.98360934,\n",
              "        0.74576416]),\n",
              " array([0.52793969, 0.27304106, 0.39709612, ..., 0.49080493, 0.5052743 ,\n",
              "        0.21937056]),\n",
              " array([0.81165522, 0.45543337, 0.62836025, ..., 0.78382011, 0.80310335,\n",
              "        0.45170632]),\n",
              " array([0.52396882, 0.41280587, 0.50954309, ..., 0.37693469, 0.45097124,\n",
              "        0.24684621]),\n",
              " array([0.04546695, 0.2223524 , 0.12805392, ..., 0.01331288, 0.0281496 ,\n",
              "        0.07084979]),\n",
              " array([0.0518487 , 0.13585521, 0.09207743, ..., 0.03109319, 0.04620063,\n",
              "        0.18756634]),\n",
              " array([0.98202957, 0.69405001, 0.8608009 , ..., 0.88347046, 0.95683889,\n",
              "        0.7243618 ]),\n",
              " array([0.06638861, 0.28900332, 0.16968079, ..., 0.02327538, 0.04526262,\n",
              "        0.1394862 ]),\n",
              " array([0.68480749, 0.76734627, 0.80789731, ..., 0.43548611, 0.57038961,\n",
              "        0.47358047]),\n",
              " array([0.24640255, 0.2480379 , 0.24824859, ..., 0.24642772, 0.26748699,\n",
              "        0.53886593]),\n",
              " array([0.31898615, 0.6312889 , 0.49814047, ..., 0.1897452 , 0.27331611,\n",
              "        0.61418584]),\n",
              " array([0.6720378 , 0.96232711, 0.90272269, ..., 0.40003252, 0.55379725,\n",
              "        0.64488442]),\n",
              " array([0.00592429, 0.05078946, 0.02281602, ..., 0.00139543, 0.00343633,\n",
              "        0.01595735]),\n",
              " array([0.50268443, 0.21025653, 0.30811938, ..., 0.72872437, 0.61583328,\n",
              "        0.51296808]),\n",
              " array([0.1781614 , 0.10380989, 0.12828103, ..., 0.25095799, 0.22328558,\n",
              "        0.34063832]),\n",
              " array([0.23297522, 0.42407909, 0.34000069, ..., 0.15638898, 0.21281818,\n",
              "        0.54169103]),\n",
              " array([0.99925823, 0.72553493, 0.88423821, ..., 0.91062202, 0.98458469,\n",
              "        0.81260054]),\n",
              " array([0.53425766, 0.48411626, 0.56400445, ..., 0.35782732, 0.44765287,\n",
              "        0.27368435]),\n",
              " array([0.12543625, 0.01989362, 0.04490912, ..., 0.26158438, 0.17069895,\n",
              "        0.04789533]),\n",
              " array([0.82403345, 0.97907907, 0.97398911, ..., 0.58280801, 0.73790059,\n",
              "        0.89478899]),\n",
              " array([0.50533955, 0.69053965, 0.67613862, ..., 0.27914002, 0.39548827,\n",
              "        0.34886859]),\n",
              " array([0.89021397, 0.95127676, 0.9972866 , ..., 0.64105349, 0.79567537,\n",
              "        0.81229815]),\n",
              " array([0.63041433, 0.78372597, 0.79158286, ..., 0.37795649, 0.51287922,\n",
              "        0.4557183 ]),\n",
              " array([0.65619621, 0.97285489, 0.89745593, ..., 0.38758317, 0.54045505,\n",
              "        0.66281873]),\n",
              " array([0.92226677, 0.81837587, 0.93248974, ..., 0.7105948 , 0.84002544,\n",
              "        0.69264168]),\n",
              " array([0.18755589, 0.08186963, 0.11421576, ..., 0.3036688 , 0.24718818,\n",
              "        0.29412599]),\n",
              " array([0.68551123, 0.71128468, 0.77433742, ..., 0.45023374, 0.57697238,\n",
              "        0.44315732]),\n",
              " array([0.3024736 , 0.31030514, 0.30994324, ..., 0.29237848, 0.32230676,\n",
              "        0.62105696]),\n",
              " array([0.72865666, 0.38860728, 0.52153661, ..., 0.88555676, 0.82515649,\n",
              "        0.73332189]),\n",
              " array([0.73536292, 0.79910181, 0.80813699, ..., 0.59304549, 0.70603979,\n",
              "        0.98324659]),\n",
              " array([0.15470612, 0.48894046, 0.32512281, ..., 0.06600333, 0.11443334,\n",
              "        0.29655266]),\n",
              " array([0.74379531, 0.53816252, 0.67721813, ..., 0.59734863, 0.67786983,\n",
              "        0.40809182]),\n",
              " array([0.69170511, 0.82210071, 0.84253126, ..., 0.43153663, 0.57350812,\n",
              "        0.51238342]),\n",
              " array([0.50617209, 0.19617818, 0.31725363, ..., 0.57599979, 0.52951692,\n",
              "        0.20919151]),\n",
              " array([0.04112642, 0.18877815, 0.11376229, ..., 0.01147723, 0.02453226,\n",
              "        0.04826824]),\n",
              " array([0.46664683, 0.26501662, 0.37363662, ..., 0.40060671, 0.43017347,\n",
              "        0.18606741]),\n",
              " array([0.36269372, 0.78600457, 0.62527064, ..., 0.17011493, 0.27156891,\n",
              "        0.41118788]),\n",
              " array([0.03608698, 0.19198321, 0.10452787, ..., 0.01106965, 0.02322674,\n",
              "        0.07773929]),\n",
              " array([0.89128297, 0.46153511, 0.64403273, ..., 0.9827369 , 0.94736385,\n",
              "        0.62526896]),\n",
              " array([0.05615839, 0.22204474, 0.13179464, ..., 0.02334102, 0.04200896,\n",
              "        0.16118933]),\n",
              " array([0.61490194, 0.96091461, 0.86808631, ..., 0.35233004, 0.50028928,\n",
              "        0.63424046]),\n",
              " array([0.10876398, 0.3918729 , 0.25586981, ..., 0.03733222, 0.07152716,\n",
              "        0.14238823]),\n",
              " array([0.35900235, 0.61561449, 0.55194835, ..., 0.17240919, 0.2650628 ,\n",
              "        0.26390277]),\n",
              " array([0.40138026, 0.79874951, 0.63879119, ..., 0.22292269, 0.32994801,\n",
              "        0.63424199]),\n",
              " array([0.01510111, 0.09676879, 0.050671  , ..., 0.00359391, 0.00850786,\n",
              "        0.02239477]),\n",
              " array([0.16607578, 0.47807193, 0.34492277, ..., 0.06205369, 0.11195607,\n",
              "        0.17355883]),\n",
              " array([0.18199563, 0.5379246 , 0.37969704, ..., 0.07025404, 0.12557033,\n",
              "        0.22242247]),\n",
              " array([0.03447589, 0.18336234, 0.10211401, ..., 0.00962605, 0.02094395,\n",
              "        0.05569284]),\n",
              " array([0.22581858, 0.60764098, 0.44525021, ..., 0.09198796, 0.15920633,\n",
              "        0.265582  ]),\n",
              " array([0.50216841, 0.91865836, 0.77142207, ..., 0.27452905, 0.4046451 ,\n",
              "        0.63051983]),\n",
              " array([0.26664094, 0.47479086, 0.38534194, ..., 0.17864994, 0.24263706,\n",
              "        0.58779014]),\n",
              " array([0.92275495, 0.694838  , 0.82082853, ..., 0.88317697, 0.94116669,\n",
              "        0.94292964]),\n",
              " array([0.49250163, 0.58872526, 0.61207545, ..., 0.28560663, 0.3907029 ,\n",
              "        0.29550458]),\n",
              " array([0.88163578, 0.50160076, 0.68343961, ..., 0.8698751 , 0.88541281,\n",
              "        0.53979731]),\n",
              " array([0.50954636, 0.90435037, 0.77820576, ..., 0.26908954, 0.40048024,\n",
              "        0.53920722]),\n",
              " array([0.02865389, 0.05816377, 0.05156062, ..., 0.00988487, 0.0176259 ,\n",
              "        0.01103859]),\n",
              " array([0.71382686, 0.87749593, 0.84851377, ..., 0.52685127, 0.65889102,\n",
              "        0.95019686]),\n",
              " array([0.17791522, 0.49527654, 0.34247384, ..., 0.08563828, 0.13954421,\n",
              "        0.37483505]),\n",
              " array([0.50014291, 0.86893264, 0.73430031, ..., 0.29893567, 0.42303421,\n",
              "        0.7376999 ]),\n",
              " array([0.59871573, 0.29466021, 0.40524763, ..., 0.786357  , 0.70416896,\n",
              "        0.64211191]),\n",
              " array([0.43540577, 0.86039732, 0.69625218, ..., 0.23381351, 0.35029538,\n",
              "        0.61144012]),\n",
              " array([0.06220249, 0.25871588, 0.15226119, ..., 0.02391471, 0.04463068,\n",
              "        0.15697623]),\n",
              " array([0.44559564, 0.38366938, 0.41493817, ..., 0.45716653, 0.48210183,\n",
              "        0.75189115]),\n",
              " array([0.98318319, 0.73838568, 0.88087496, ..., 0.90845129, 0.9810358 ,\n",
              "        0.89710363]),\n",
              " array([0.25207825, 0.62553861, 0.4559176 , ..., 0.125933  , 0.19946519,\n",
              "        0.46421964]),\n",
              " array([0.47852967, 0.42496298, 0.50116384, ..., 0.31861745, 0.39852869,\n",
              "        0.23050509]),\n",
              " array([0.70270562, 0.50930746, 0.60021435, ..., 0.74014976, 0.75659443,\n",
              "        0.88581758]),\n",
              " array([0.31272559, 0.07573178, 0.14546673, ..., 0.4966873 , 0.3791032 ,\n",
              "        0.1296256 ]),\n",
              " array([0.75784478, 0.43031696, 0.56342278, ..., 0.88755778, 0.8453561 ,\n",
              "        0.77986066]),\n",
              " array([0.67823695, 0.97485584, 0.91099768, ..., 0.40678507, 0.56176165,\n",
              "        0.67144553]),\n",
              " array([0.44907087, 0.49944906, 0.53738638, ..., 0.26513219, 0.35704052,\n",
              "        0.24356817])]"
            ]
          },
          "metadata": {
            "tags": []
          },
          "execution_count": 62
        }
      ]
    },
    {
      "cell_type": "code",
      "metadata": {
        "id": "UbqEaC9r4_i3",
        "colab_type": "code",
        "colab": {}
      },
      "source": [
        "y11, y22 = data.T"
      ],
      "execution_count": 8,
      "outputs": []
    },
    {
      "cell_type": "code",
      "metadata": {
        "id": "TUlo6LUWnwSA",
        "colab_type": "code",
        "colab": {}
      },
      "source": [
        "def normal_cdf(x):\n",
        "  q = math.erf(x/math.sqrt(2.0))\n",
        "  return (1.0+q) /2.0\n",
        "y11 = [normal_cdf(s) for s in x11]\n",
        "y22 = [normal_cdf(s) for s in x22]"
      ],
      "execution_count": 9,
      "outputs": []
    },
    {
      "cell_type": "code",
      "metadata": {
        "id": "HUai4Hl0qdKy",
        "colab_type": "code",
        "colab": {
          "base_uri": "https://localhost:8080/",
          "height": 282
        },
        "outputId": "699e5275-05b1-4e59-bb0e-d87a5e96fa4a"
      },
      "source": [
        "fig = plt.figure()\n",
        "ax = plt.axes()\n",
        "ax.plot(y11, y22, 'o')"
      ],
      "execution_count": 10,
      "outputs": [
        {
          "output_type": "execute_result",
          "data": {
            "text/plain": [
              "[<matplotlib.lines.Line2D at 0x7f55047621d0>]"
            ]
          },
          "metadata": {
            "tags": []
          },
          "execution_count": 10
        },
        {
          "output_type": "display_data",
          "data": {
            "image/png": "[encoded data removed]",
            "text/plain": [
              "<Figure size 432x288 with 1 Axes>"
            ]
          },
          "metadata": {
            "tags": [],
            "needs_background": "light"
          }
        }
      ]
    },
    {
      "cell_type": "code",
      "metadata": {
        "id": "MZN2CWvzql7x",
        "colab_type": "code",
        "colab": {
          "base_uri": "https://localhost:8080/",
          "height": 265
        },
        "outputId": "a4131423-283f-4834-d01f-e9639a0f4b59"
      },
      "source": [
        "fig = plt.figure()\n",
        "ax = plt.axes(projection = '3d')\n",
        "ax.plot3D(y11, y22, 'o')"
      ],
      "execution_count": 11,
      "outputs": [
        {
          "output_type": "execute_result",
          "data": {
            "text/plain": [
              "[<mpl_toolkits.mplot3d.art3d.Line3D at 0x7f5504664cf8>]"
            ]
          },
          "metadata": {
            "tags": []
          },
          "execution_count": 11
        },
        {
          "output_type": "display_data",
          "data": {
            "image/png": "[encoded data removed]",
            "text/plain": [
              "<Figure size 432x288 with 1 Axes>"
            ]
          },
          "metadata": {
            "tags": [],
            "needs_background": "light"
          }
        }
      ]
    },
    {
      "cell_type": "code",
      "metadata": {
        "id": "Vj2mmwG_a1tk",
        "colab_type": "code",
        "colab": {
          "base_uri": "https://localhost:8080/",
          "height": 282
        },
        "outputId": "da278227-438b-4608-868c-6c499855dd83"
      },
      "source": [
        "fig = plt.figure()\n",
        "ax = plt.axes()\n",
        "ax.plot(x11,x22, 'o')"
      ],
      "execution_count": 12,
      "outputs": [
        {
          "output_type": "execute_result",
          "data": {
            "text/plain": [
              "[<matplotlib.lines.Line2D at 0x7f55019a4198>]"
            ]
          },
          "metadata": {
            "tags": []
          },
          "execution_count": 12
        },
        {
          "output_type": "display_data",
          "data": {
            "image/png": "[encoded data removed]",
            "text/plain": [
              "<Figure size 432x288 with 1 Axes>"
            ]
          },
          "metadata": {
            "tags": [],
            "needs_background": "light"
          }
        }
      ]
    },
    {
      "cell_type": "code",
      "metadata": {
        "id": "i1lWEHzUaekc",
        "colab_type": "code",
        "colab": {
          "base_uri": "https://localhost:8080/",
          "height": 265
        },
        "outputId": "fbdaa99f-1ccf-4c94-f9dd-7fbaa0ca20ef"
      },
      "source": [
        "fig = plt.figure()\n",
        "ax = plt.axes(projection = '3d')\n",
        "ax.plot3D(x11, x22, 'o')"
      ],
      "execution_count": 13,
      "outputs": [
        {
          "output_type": "execute_result",
          "data": {
            "text/plain": [
              "[<mpl_toolkits.mplot3d.art3d.Line3D at 0x7f55019178d0>]"
            ]
          },
          "metadata": {
            "tags": []
          },
          "execution_count": 13
        },
        {
          "output_type": "display_data",
          "data": {
            "image/png": "[encoded data removed]",
            "text/plain": [
              "<Figure size 432x288 with 1 Axes>"
            ]
          },
          "metadata": {
            "tags": [],
            "needs_background": "light"
          }
        }
      ]
    },
    {
      "cell_type": "code",
      "metadata": {
        "id": "-u0cnONIxXEh",
        "colab_type": "code",
        "colab": {}
      },
      "source": [
        " for v in united:\n",
        "   print(v*v.T)"
      ],
      "execution_count": null,
      "outputs": []
    },
    {
      "cell_type": "code",
      "metadata": {
        "id": "-460QQq2wyEQ",
        "colab_type": "code",
        "colab": {
          "base_uri": "https://localhost:8080/",
          "height": 221
        },
        "outputId": "2f092601-2dc3-406a-8f36-181a55757d1f"
      },
      "source": [
        "trnorms1 = np.mat([(v*v.T)[0,0] for v in united]).T"
      ],
      "execution_count": 16,
      "outputs": [
        {
          "output_type": "error",
          "ename": "IndexError",
          "evalue": "ignored",
          "traceback": [
            "\u001b[0;31m---------------------------------------------------------------------------\u001b[0m",
            "\u001b[0;31mIndexError\u001b[0m                                Traceback (most recent call last)",
            "\u001b[0;32m<ipython-input-16-7a85c05983bc>\u001b[0m in \u001b[0;36m<module>\u001b[0;34m()\u001b[0m\n\u001b[0;32m----> 1\u001b[0;31m \u001b[0mtrnorms1\u001b[0m \u001b[0;34m=\u001b[0m \u001b[0mnp\u001b[0m\u001b[0;34m.\u001b[0m\u001b[0mmat\u001b[0m\u001b[0;34m(\u001b[0m\u001b[0;34m[\u001b[0m\u001b[0;34m(\u001b[0m\u001b[0mv\u001b[0m\u001b[0;34m*\u001b[0m\u001b[0mv\u001b[0m\u001b[0;34m.\u001b[0m\u001b[0mT\u001b[0m\u001b[0;34m)\u001b[0m\u001b[0;34m[\u001b[0m\u001b[0;36m0\u001b[0m\u001b[0;34m,\u001b[0m\u001b[0;36m0\u001b[0m\u001b[0;34m]\u001b[0m \u001b[0;32mfor\u001b[0m \u001b[0mv\u001b[0m \u001b[0;32min\u001b[0m \u001b[0munited\u001b[0m\u001b[0;34m]\u001b[0m\u001b[0;34m)\u001b[0m\u001b[0;34m.\u001b[0m\u001b[0mT\u001b[0m\u001b[0;34m\u001b[0m\u001b[0;34m\u001b[0m\u001b[0m\n\u001b[0m",
            "\u001b[0;32m<ipython-input-16-7a85c05983bc>\u001b[0m in \u001b[0;36m<listcomp>\u001b[0;34m(.0)\u001b[0m\n\u001b[0;32m----> 1\u001b[0;31m \u001b[0mtrnorms1\u001b[0m \u001b[0;34m=\u001b[0m \u001b[0mnp\u001b[0m\u001b[0;34m.\u001b[0m\u001b[0mmat\u001b[0m\u001b[0;34m(\u001b[0m\u001b[0;34m[\u001b[0m\u001b[0;34m(\u001b[0m\u001b[0mv\u001b[0m\u001b[0;34m*\u001b[0m\u001b[0mv\u001b[0m\u001b[0;34m.\u001b[0m\u001b[0mT\u001b[0m\u001b[0;34m)\u001b[0m\u001b[0;34m[\u001b[0m\u001b[0;36m0\u001b[0m\u001b[0;34m,\u001b[0m\u001b[0;36m0\u001b[0m\u001b[0;34m]\u001b[0m \u001b[0;32mfor\u001b[0m \u001b[0mv\u001b[0m \u001b[0;32min\u001b[0m \u001b[0munited\u001b[0m\u001b[0;34m]\u001b[0m\u001b[0;34m)\u001b[0m\u001b[0;34m.\u001b[0m\u001b[0mT\u001b[0m\u001b[0;34m\u001b[0m\u001b[0;34m\u001b[0m\u001b[0m\n\u001b[0m",
            "\u001b[0;31mIndexError\u001b[0m: too many indices for array"
          ]
        }
      ]
    },
    {
      "cell_type": "code",
      "metadata": {
        "id": "PZKX8XgbG7qV",
        "colab_type": "code",
        "colab": {}
      },
      "source": [
        "def compute_Kernel(X1, Y1, width):\n",
        "  "
      ],
      "execution_count": null,
      "outputs": []
    },
    {
      "cell_type": "code",
      "metadata": {
        "id": "BGyBBR2G76bx",
        "colab_type": "code",
        "colab": {}
      },
      "source": [
        "gd1 = euclidean_norm(united)"
      ],
      "execution_count": null,
      "outputs": []
    },
    {
      "cell_type": "code",
      "metadata": {
        "id": "c-TxEd95DUiG",
        "colab_type": "code",
        "colab": {
          "base_uri": "https://localhost:8080/",
          "height": 34
        },
        "outputId": "f4179b86-9a55-498c-f644-676f503e788a"
      },
      "source": [
        "len(gd1)"
      ],
      "execution_count": null,
      "outputs": [
        {
          "output_type": "execute_result",
          "data": {
            "text/plain": [
              "4000"
            ]
          },
          "metadata": {
            "tags": []
          },
          "execution_count": 44
        }
      ]
    },
    {
      "cell_type": "code",
      "metadata": {
        "id": "31T71Wt6_e9g",
        "colab_type": "code",
        "colab": {
          "base_uri": "https://localhost:8080/",
          "height": 141
        },
        "outputId": "6b61cb37-4aea-4ec8-e112-b833c9a47bea"
      },
      "source": [
        "united[1:]"
      ],
      "execution_count": null,
      "outputs": [
        {
          "output_type": "execute_result",
          "data": {
            "text/plain": [
              "array([[ 0.91439771,  1.01717643],\n",
              "       [ 1.03153987,  0.76920659],\n",
              "       [ 1.24475683, -1.04029424],\n",
              "       ...,\n",
              "       [-0.92915319, -1.15814591],\n",
              "       [ 0.45012303,  1.57604183],\n",
              "       [-1.04704763,  0.29997781]])"
            ]
          },
          "metadata": {
            "tags": []
          },
          "execution_count": 32
        }
      ]
    },
    {
      "cell_type": "code",
      "metadata": {
        "id": "0fou6PGv_ZYW",
        "colab_type": "code",
        "colab": {
          "base_uri": "https://localhost:8080/",
          "height": 141
        },
        "outputId": "31fe305d-9a1d-44ab-c74a-711632b8aae5"
      },
      "source": [
        "united[:-1]"
      ],
      "execution_count": null,
      "outputs": [
        {
          "output_type": "execute_result",
          "data": {
            "text/plain": [
              "array([[ 0.86027174, -0.9725258 ],\n",
              "       [ 0.91439771,  1.01717643],\n",
              "       [ 1.03153987,  0.76920659],\n",
              "       ...,\n",
              "       [-0.91721964,  0.01217677],\n",
              "       [-0.92915319, -1.15814591],\n",
              "       [ 0.45012303,  1.57604183]])"
            ]
          },
          "metadata": {
            "tags": []
          },
          "execution_count": 31
        }
      ]
    },
    {
      "cell_type": "code",
      "metadata": {
        "id": "suzztrGECR8i",
        "colab_type": "code",
        "colab": {}
      },
      "source": [
        ""
      ],
      "execution_count": null,
      "outputs": []
    },
    {
      "cell_type": "code",
      "metadata": {
        "id": "iXPxSeH8kYLB",
        "colab_type": "code",
        "colab": {}
      },
      "source": [
        "good= np.array([np.sqrt(sum(coords * coords for coords in line)) for line in united])"
      ],
      "execution_count": null,
      "outputs": []
    },
    {
      "cell_type": "code",
      "metadata": {
        "id": "PkLiub5qCuLU",
        "colab_type": "code",
        "colab": {
          "base_uri": "https://localhost:8080/",
          "height": 52
        },
        "outputId": "080b3d90-7bfa-413a-f5e9-fcf8b0b37e9a"
      },
      "source": [
        "good[0]-good"
      ],
      "execution_count": null,
      "outputs": [
        {
          "output_type": "execute_result",
          "data": {
            "text/plain": [
              "array([ 0.        , -0.06934927,  0.01165129, ..., -0.18638678,\n",
              "       -0.34064821,  0.20924017])"
            ]
          },
          "metadata": {
            "tags": []
          },
          "execution_count": 42
        }
      ]
    },
    {
      "cell_type": "code",
      "metadata": {
        "id": "p5T245nTA1_P",
        "colab_type": "code",
        "colab": {
          "base_uri": "https://localhost:8080/",
          "height": 34
        },
        "outputId": "680e698c-3ee2-4e54-d513-58aac5d482d9"
      },
      "source": [
        "tf.reduce_mean(tf.pow((united[:-1]*united[1:]).sum(1),2))"
      ],
      "execution_count": null,
      "outputs": [
        {
          "output_type": "execute_result",
          "data": {
            "text/plain": [
              "<tf.Tensor: shape=(), dtype=float64, numpy=1.9730109054450944>"
            ]
          },
          "metadata": {
            "tags": []
          },
          "execution_count": 28
        }
      ]
    },
    {
      "cell_type": "code",
      "metadata": {
        "id": "QW1FeLjB-hQv",
        "colab_type": "code",
        "colab": {
          "base_uri": "https://localhost:8080/",
          "height": 34
        },
        "outputId": "ebfbce86-2149-4da9-89a3-ddf12862f12f"
      },
      "source": [
        "tf.reduce_mean(((united[:-1]*united[1:]).sum(1)))"
      ],
      "execution_count": null,
      "outputs": [
        {
          "output_type": "execute_result",
          "data": {
            "text/plain": [
              "<tf.Tensor: shape=(), dtype=float64, numpy=-0.004111517053988431>"
            ]
          },
          "metadata": {
            "tags": []
          },
          "execution_count": 29
        }
      ]
    },
    {
      "cell_type": "code",
      "metadata": {
        "id": "K7lbvix4mKTu",
        "colab_type": "code",
        "colab": {}
      },
      "source": [
        "def kernel(x1,x2,r):\n",
        "  return tf.exp(-(x1-x2))"
      ],
      "execution_count": null,
      "outputs": []
    },
    {
      "cell_type": "code",
      "metadata": {
        "id": "_MPAsOuY-1vr",
        "colab_type": "code",
        "colab": {
          "base_uri": "https://localhost:8080/",
          "height": 141
        },
        "outputId": "09e0a8a9-fc3b-4b2a-cbbb-eb442d8f2ba6"
      },
      "source": [
        "united"
      ],
      "execution_count": null,
      "outputs": [
        {
          "output_type": "execute_result",
          "data": {
            "text/plain": [
              "array([[ 0.86027174, -0.9725258 ],\n",
              "       [ 0.91439771,  1.01717643],\n",
              "       [ 1.03153987,  0.76920659],\n",
              "       ...,\n",
              "       [-0.92915319, -1.15814591],\n",
              "       [ 0.45012303,  1.57604183],\n",
              "       [-1.04704763,  0.29997781]])"
            ]
          },
          "metadata": {
            "tags": []
          },
          "execution_count": 22
        }
      ]
    },
    {
      "cell_type": "code",
      "metadata": {
        "id": "l8dZkfHCrhil",
        "colab_type": "code",
        "colab": {
          "base_uri": "https://localhost:8080/",
          "height": 310
        },
        "outputId": "87500563-dd16-4893-c8a8-63506e68f419"
      },
      "source": [
        "def MMD(prediction, Y_test, d=2, alpha = 1.0, c=2.0):\n",
        "  kernel_xx = tf.reduce_mean(tf.pow((united[:-1]*united[1:]).sum(1),2))\n",
        "  kernel_yy\n",
        "  kernel_xy\n",
        "  kernel_yx\n",
        "  return kernel_xx+kernel_yy -kernel_xy - kernel_yx"
      ],
      "execution_count": null,
      "outputs": [
        {
          "output_type": "error",
          "ename": "ModuleNotFoundError",
          "evalue": "ignored",
          "traceback": [
            "\u001b[0;31m---------------------------------------------------------------------------\u001b[0m",
            "\u001b[0;31mModuleNotFoundError\u001b[0m                       Traceback (most recent call last)",
            "\u001b[0;32m<ipython-input-13-265f02e9c062>\u001b[0m in \u001b[0;36m<module>\u001b[0;34m()\u001b[0m\n\u001b[0;32m----> 1\u001b[0;31m \u001b[0;32mimport\u001b[0m \u001b[0mmxnet\u001b[0m \u001b[0;32mas\u001b[0m \u001b[0mmx\u001b[0m\u001b[0;34m\u001b[0m\u001b[0;34m\u001b[0m\u001b[0m\n\u001b[0m",
            "\u001b[0;31mModuleNotFoundError\u001b[0m: No module named 'mxnet'",
            "",
            "\u001b[0;31m---------------------------------------------------------------------------\u001b[0;32m\nNOTE: If your import is failing due to a missing package, you can\nmanually install dependencies using either !pip or !apt.\n\nTo view examples of installing some common dependencies, click the\n\"Open Examples\" button below.\n\u001b[0;31m---------------------------------------------------------------------------\u001b[0m\n"
          ]
        }
      ]
    }
  ]
}